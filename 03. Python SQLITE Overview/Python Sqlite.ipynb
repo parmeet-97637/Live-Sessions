{
 "cells": [
  {
   "cell_type": "markdown",
   "id": "19ce25fc",
   "metadata": {},
   "source": [
    "**Installation**<br>\n",
    "SQLite3 can be integrated with Python using sqlite3 module, which was written by Gerhard Haring. It provides an SQL interface compliant with the DB-API 2.0 specification described by PEP 249. You do not need to install this module separately because it is shipped by default along with Python version 2.5.x onwards."
   ]
  },
  {
   "cell_type": "markdown",
   "id": "d8b2282b",
   "metadata": {},
   "source": [
    "<font size=\"3\">\n",
    "    \n",
    "**API & Description**\n",
    "    \n",
    "*1.sqlite3.connect(database [,timeout ,other optional arguments])*\n",
    "<br><br>\n",
    "This API opens a connection to the SQLite database file. You can use \":memory:\" to open a database connection to a database that resides in RAM instead of on disk. If database is opened successfully, it returns a connection object.\n",
    "\n",
    "When a database is accessed by multiple connections, and one of the processes modifies the database, the SQLite database is locked until that transaction is committed. The timeout parameter specifies how long the connection should wait for the lock to go away until raising an exception. The default for the timeout parameter is 5.0 (five seconds).\n",
    "\n",
    "If the given database name does not exist then this call will create the database. You can specify filename with the required path as well if you want to create a database anywhere else except in the current directory.\n",
    "\n",
    "*2. connection.cursor([cursorClass])*\n",
    "<br><br>\n",
    "This routine creates a cursor which will be used throughout of your database programming with Python. This method accepts a single optional parameter cursorClass. If supplied, this must be a custom cursor class that extends sqlite3.Cursor.\n",
    "\n",
    "*3. cursor.execute(sql [, optional parameters])*\n",
    "<br><br>\n",
    "This routine executes an SQL statement. The SQL statement may be parameterized (i. e. placeholders instead of SQL literals). The sqlite3 module supports two kinds of placeholders: question marks and named placeholders (named style).\n",
    "\n",
    "For example − cursor.execute(\"insert into people values (?, ?)\", (who, age))\n",
    "\n",
    "*4. connection.execute(sql [, optional parameters])*\n",
    "<br><br>\n",
    "This routine is a shortcut of the above execute method provided by the cursor object and it creates an intermediate cursor object by calling the cursor method, then calls the cursor's execute method with the parameters given.\n",
    "\n",
    "*5. cursor.executemany(sql, seq_of_parameters)*\n",
    "<br><br>\n",
    "This routine executes an SQL command against all parameter sequences or mappings found in the sequence sql.\n",
    "\n",
    "*6. connection.executemany(sql[, parameters])*\n",
    "<br><br>\n",
    "This routine is a shortcut that creates an intermediate cursor object by calling the cursor method, then calls the cursor.s executemany method with the parameters given.\n",
    "\n",
    "*7. cursor.executescript(sql_script)*\n",
    "<br><br>\n",
    "This routine executes multiple SQL statements at once provided in the form of script. It issues a COMMIT statement first, then executes the SQL script it gets as a parameter. All the SQL statements should be separated by a semi colon (;).\n",
    "\n",
    "*8. connection.executescript(sql_script)*\n",
    "<br><br>\n",
    "This routine is a shortcut that creates an intermediate cursor object by calling the cursor method, then calls the cursor's executescript method with the parameters given.\n",
    "\n",
    "*9. connection.total_changes()*\n",
    "<br><br>\n",
    "This routine returns the total number of database rows that have been modified, inserted, or deleted since the database connection was opened.\n",
    "\n",
    "*10. connection.commit()*\n",
    "<br><br>\n",
    "This method commits the current transaction. If you don't call this method, anything you did since the last call to commit() is not visible from other database connections.\n",
    "\n",
    "*11. connection.rollback()*\n",
    "<br><br>\n",
    "This method rolls back any changes to the database since the last call to commit().\n",
    "\n",
    "*12. connection.close()*\n",
    "<br><br>\n",
    "This method closes the database connection. Note that this does not automatically call commit(). If you just close your database connection without calling commit() first, your changes will be lost!\n",
    "\n",
    "*13. cursor.fetchone()*\n",
    "<br><br>\n",
    "This method fetches the next row of a query result set, returning a single sequence, or None when no more data is available.\n",
    "\n",
    "*14. cursor.fetchmany([size = cursor.arraysize])*\n",
    "<br><br>\n",
    "This routine fetches the next set of rows of a query result, returning a list. An empty list is returned when no more rows are available. The method tries to fetch as many rows as indicated by the size parameter.\n",
    "\n",
    "*15. cursor.fetchall()*\n",
    "\n",
    "This routine fetches all (remaining) rows of a query result, returning a list. An empty list is returned when no rows are available."
   ]
  },
  {
   "cell_type": "code",
   "execution_count": null,
   "id": "913ace58",
   "metadata": {},
   "outputs": [],
   "source": [
    "!pip install sqlite"
   ]
  },
  {
   "cell_type": "code",
   "execution_count": 1,
   "id": "b09347df",
   "metadata": {},
   "outputs": [],
   "source": [
    "import sqlite3"
   ]
  },
  {
   "cell_type": "code",
   "execution_count": 2,
   "id": "16780de5",
   "metadata": {},
   "outputs": [],
   "source": [
    "# Build the connection to the sqlite database\n",
    "conn = sqlite3.connect('esmartdata.sqlite3')"
   ]
  },
  {
   "cell_type": "code",
   "execution_count": 3,
   "id": "e72428f1",
   "metadata": {},
   "outputs": [],
   "source": [
    "# define a cursor\n",
    "cur = conn.cursor()"
   ]
  },
  {
   "cell_type": "code",
   "execution_count": 4,
   "id": "3b623cb6",
   "metadata": {},
   "outputs": [
    {
     "name": "stdout",
     "output_type": "stream",
     "text": [
      "3.35.4\n"
     ]
    }
   ],
   "source": [
    "# sqlite version\n",
    "cur.execute(\"select sqlite_version()\")\n",
    "version = cur.fetchall()[0][0]\n",
    "print(version)\n",
    "conn.close()"
   ]
  },
  {
   "cell_type": "markdown",
   "id": "5309d956",
   "metadata": {},
   "source": [
    "### MYSQL Command create the table\n",
    "DROP TABLE IF EXISTS \"esmartdata_instructor\";<br>\n",
    "CREATE TABLE \"esmartdata_instructor\" (<br>\n",
    "id integer NOT NULL,<br>\n",
    "first_name text NOT NULL,<br>\n",
    "last_name text NOT NULL,<br>\n",
    "description text NOT NULL,<br>\n",
    "PRIMARY KEY (id AUTOINCREMENT)<br>\n",
    ");<br>"
   ]
  },
  {
   "cell_type": "code",
   "execution_count": 5,
   "id": "12ca9250",
   "metadata": {},
   "outputs": [],
   "source": [
    "# Creating the table\n",
    "# Build the connection to the sqlite database\n",
    "conn = sqlite3.connect('esmartdata.sqlite3')\n",
    "# define a cursor\n",
    "cur = conn.cursor()\n",
    "\n",
    "cur.executescript('''\n",
    "DROP TABLE IF EXISTS esmartdata_instructor;\n",
    "CREATE TABLE esmartdata_instructor (\n",
    "id integer NOT NULL,\n",
    "first_name text NOT NULL,\n",
    "last_name text NOT NULL,\n",
    "description text NOT NULL,\n",
    "PRIMARY KEY (id AUTOINCREMENT)\n",
    ");\n",
    "''')\n",
    "\n",
    "conn.commit()\n",
    "conn.close()"
   ]
  },
  {
   "cell_type": "markdown",
   "id": "369a4eb3",
   "metadata": {},
   "source": [
    "### command to insert the records in sqlite table \"esmartdata_instructor\"\n",
    "insert into esmartdata_instructor VALUES(\"Parmeet\",\"Singh\",\"Data-Scientist\"),(\"Abhiskek\",\"Mishra\",\"Data Analyst\")"
   ]
  },
  {
   "cell_type": "code",
   "execution_count": 6,
   "id": "21cde0b8",
   "metadata": {},
   "outputs": [],
   "source": [
    "#inserting the records int the table\n",
    "# Build the connection to the sqlite database\n",
    "conn = sqlite3.connect('esmartdata.sqlite3')\n",
    "# define a cursor\n",
    "cur = conn.cursor()\n",
    "\n",
    "cur.executescript('''\n",
    "insert into esmartdata_instructor(first_name,last_name,description) VALUES(\"Parmeet\",\"Singh\",\"Data-Scientist\"),(\"Abhiskek\",\"Mishra\",\"Data Analyst\");\n",
    "''')\n",
    "conn.commit()\n",
    "conn.close()"
   ]
  },
  {
   "cell_type": "markdown",
   "id": "5f16b610",
   "metadata": {},
   "source": [
    "### Fetching the records from the esmartdata_instructor table"
   ]
  },
  {
   "cell_type": "code",
   "execution_count": 7,
   "id": "5cbef806",
   "metadata": {},
   "outputs": [
    {
     "name": "stdout",
     "output_type": "stream",
     "text": [
      "(1, 'Parmeet', 'Singh', 'Data-Scientist')\n",
      "(2, 'Abhiskek', 'Mishra', 'Data Analyst')\n"
     ]
    }
   ],
   "source": [
    "# Build the connection to the sqlite database\n",
    "conn = sqlite3.connect('esmartdata.sqlite3')\n",
    "# define a cursor\n",
    "cur = conn.cursor()\n",
    "\n",
    "cur.execute('''\n",
    "select * from esmartdata_instructor\n",
    "''')\n",
    "\n",
    "for row in cur.fetchall():\n",
    "    print(row)\n",
    "cur.close()"
   ]
  },
  {
   "cell_type": "markdown",
   "id": "48e48962",
   "metadata": {},
   "source": [
    "### Fetching the count of number of records in the \"esmartdata_instructor table\""
   ]
  },
  {
   "cell_type": "code",
   "execution_count": 8,
   "id": "392cc739",
   "metadata": {},
   "outputs": [
    {
     "name": "stdout",
     "output_type": "stream",
     "text": [
      "no_of_rows :  2\n"
     ]
    }
   ],
   "source": [
    "# Build the connection to the sqlite database\n",
    "conn = sqlite3.connect('esmartdata.sqlite3')\n",
    "# define a cursor\n",
    "cur = conn.cursor()\n",
    "\n",
    "cur.execute('''\n",
    "select count(*) from esmartdata_instructor\n",
    "''')\n",
    "no_of_rows  = cur.fetchall()[0][0]\n",
    "print(\"no_of_rows : \", no_of_rows)\n",
    "cur.close()"
   ]
  },
  {
   "cell_type": "markdown",
   "id": "b4f89f7b",
   "metadata": {},
   "source": [
    "### Similarly you can run all the Advance mysql commands."
   ]
  }
 ],
 "metadata": {
  "kernelspec": {
   "display_name": "Python 3",
   "language": "python",
   "name": "python3"
  },
  "language_info": {
   "codemirror_mode": {
    "name": "ipython",
    "version": 3
   },
   "file_extension": ".py",
   "mimetype": "text/x-python",
   "name": "python",
   "nbconvert_exporter": "python",
   "pygments_lexer": "ipython3",
   "version": "3.8.8"
  }
 },
 "nbformat": 4,
 "nbformat_minor": 5
}
