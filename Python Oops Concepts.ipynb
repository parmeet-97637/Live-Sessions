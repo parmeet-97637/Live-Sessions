{
 "cells": [
  {
   "cell_type": "markdown",
   "id": "4462adf2",
   "metadata": {},
   "source": [
    "# Python Object Oriented Programming"
   ]
  },
  {
   "cell_type": "markdown",
   "id": "41142e01",
   "metadata": {},
   "source": [
    "- It is a multi-paradigm programming language. It supporst diiferent programming approaches.\n",
    "- It helps us in organizing the reusable codes."
   ]
  },
  {
   "cell_type": "markdown",
   "id": "b9ac3345",
   "metadata": {},
   "source": [
    "- Objects in Oops:\n",
    "        -Attribute\n",
    "        -Behaviour\n",
    "- A \"Parraot\" is known as object\n",
    "    - Name, Age, color as attributes\n",
    "    - singing, dancing are behaviour"
   ]
  },
  {
   "cell_type": "markdown",
   "id": "73c2f175",
   "metadata": {},
   "source": [
    "# Class"
   ]
  },
  {
   "cell_type": "markdown",
   "id": "3893e54d",
   "metadata": {},
   "source": [
    "It is the blue print of the object"
   ]
  },
  {
   "cell_type": "code",
   "execution_count": 1,
   "id": "62a7a3fc",
   "metadata": {},
   "outputs": [],
   "source": [
    "# This is an empty class\n",
    "class Parrot:\n",
    "    pass"
   ]
  },
  {
   "cell_type": "markdown",
   "id": "852c9c94",
   "metadata": {},
   "source": [
    "- self - This repsresents the instance of the class.\n",
    "- Through self keyword we can access the attributes and methods in the class."
   ]
  },
  {
   "cell_type": "code",
   "execution_count": 2,
   "id": "44ebec71",
   "metadata": {},
   "outputs": [],
   "source": [
    "class Person:\n",
    "    \"This is a person class\"\n",
    "    age = 10 # This is a attribute\n",
    "    \n",
    "    # Method\n",
    "    def greet(self):\n",
    "        print(\"Hello\")"
   ]
  },
  {
   "cell_type": "code",
   "execution_count": 3,
   "id": "79ab2b9f",
   "metadata": {},
   "outputs": [
    {
     "data": {
      "text/plain": [
       "10"
      ]
     },
     "execution_count": 3,
     "metadata": {},
     "output_type": "execute_result"
    }
   ],
   "source": [
    "# Access the age outside the class\n",
    "Person.age"
   ]
  },
  {
   "cell_type": "code",
   "execution_count": 4,
   "id": "8897f6f0",
   "metadata": {},
   "outputs": [
    {
     "data": {
      "text/plain": [
       "<function __main__.Person.greet(self)>"
      ]
     },
     "execution_count": 4,
     "metadata": {},
     "output_type": "execute_result"
    }
   ],
   "source": [
    "# Access the function/method outside the class\n",
    "Person.greet"
   ]
  },
  {
   "cell_type": "code",
   "execution_count": 5,
   "id": "df8e83eb",
   "metadata": {},
   "outputs": [
    {
     "data": {
      "text/plain": [
       "'This is a person class'"
      ]
     },
     "execution_count": 5,
     "metadata": {},
     "output_type": "execute_result"
    }
   ],
   "source": [
    "# Access the doc of class\n",
    "Person.__doc__"
   ]
  },
  {
   "cell_type": "code",
   "execution_count": 6,
   "id": "90d1d362",
   "metadata": {},
   "outputs": [
    {
     "name": "stdout",
     "output_type": "stream",
     "text": [
      "Hello\n"
     ]
    }
   ],
   "source": [
    "# Calling the method outside the class\n",
    "Person.greet(Person)"
   ]
  },
  {
   "cell_type": "markdown",
   "id": "b14c6649",
   "metadata": {},
   "source": [
    "# Object"
   ]
  },
  {
   "cell_type": "markdown",
   "id": "0bf9124a",
   "metadata": {},
   "source": [
    "A object is a instance of a class."
   ]
  },
  {
   "cell_type": "code",
   "execution_count": 7,
   "id": "f956b210",
   "metadata": {},
   "outputs": [],
   "source": [
    "# Create a object of Classs Person\n",
    "obj = Person()\n",
    "# Create a object of class Parrot\n",
    "obj1 = Parrot()"
   ]
  },
  {
   "cell_type": "code",
   "execution_count": 8,
   "id": "f6843f5f",
   "metadata": {},
   "outputs": [
    {
     "data": {
      "text/plain": [
       "__main__.Person"
      ]
     },
     "execution_count": 8,
     "metadata": {},
     "output_type": "execute_result"
    }
   ],
   "source": [
    "type(obj)"
   ]
  },
  {
   "cell_type": "code",
   "execution_count": 9,
   "id": "0a64cd70",
   "metadata": {},
   "outputs": [
    {
     "data": {
      "text/plain": [
       "__main__.Parrot"
      ]
     },
     "execution_count": 9,
     "metadata": {},
     "output_type": "execute_result"
    }
   ],
   "source": [
    "type(obj1)"
   ]
  },
  {
   "cell_type": "code",
   "execution_count": 10,
   "id": "18cb6fce",
   "metadata": {},
   "outputs": [
    {
     "data": {
      "text/plain": [
       "10"
      ]
     },
     "execution_count": 10,
     "metadata": {},
     "output_type": "execute_result"
    }
   ],
   "source": [
    "obj.age"
   ]
  },
  {
   "cell_type": "code",
   "execution_count": 11,
   "id": "ea37993d",
   "metadata": {},
   "outputs": [
    {
     "name": "stdout",
     "output_type": "stream",
     "text": [
      "Hello\n"
     ]
    }
   ],
   "source": [
    "obj.greet() -> # Person.greet(Person)"
   ]
  },
  {
   "cell_type": "markdown",
   "id": "600a97aa",
   "metadata": {},
   "source": [
    "# Extend the class Parrot"
   ]
  },
  {
   "cell_type": "markdown",
   "id": "376aab20",
   "metadata": {},
   "source": [
    "constructor : \\_\\_init\\_\\_"
   ]
  },
  {
   "cell_type": "code",
   "execution_count": 16,
   "id": "c880ad2f",
   "metadata": {},
   "outputs": [],
   "source": [
    "class Parrot:\n",
    "    \n",
    "    # class attribute\n",
    "    species = \"bird\"\n",
    "    \n",
    "    #instance attribute (Constructor)\n",
    "    def __init__(self,name,age):\n",
    "        self.name = name\n",
    "        self.age = age"
   ]
  },
  {
   "cell_type": "code",
   "execution_count": 19,
   "id": "8573c581",
   "metadata": {},
   "outputs": [],
   "source": [
    "# Instantiate the class / create the object\n",
    "blu = Parrot(\"Blu\",10)\n",
    "woo = Parrot(\"woo\",15)"
   ]
  },
  {
   "cell_type": "code",
   "execution_count": 20,
   "id": "0377062b",
   "metadata": {},
   "outputs": [
    {
     "data": {
      "text/plain": [
       "'bird'"
      ]
     },
     "execution_count": 20,
     "metadata": {},
     "output_type": "execute_result"
    }
   ],
   "source": [
    "blu.__class__.species"
   ]
  },
  {
   "cell_type": "code",
   "execution_count": 21,
   "id": "28119ca9",
   "metadata": {},
   "outputs": [
    {
     "name": "stdout",
     "output_type": "stream",
     "text": [
      "Blu is a bird\n",
      "Woo is a bird\n"
     ]
    }
   ],
   "source": [
    "# Access the class attributes\n",
    "print(f\"Blu is a {blu.__class__.species}\")\n",
    "print(f\"Woo is a {woo.__class__.species}\")"
   ]
  },
  {
   "cell_type": "code",
   "execution_count": 22,
   "id": "83ffcf80",
   "metadata": {},
   "outputs": [
    {
     "name": "stdout",
     "output_type": "stream",
     "text": [
      "Blu is 10 years old\n",
      "woo is 15 years old\n"
     ]
    }
   ],
   "source": [
    "# access the instance attributes\n",
    "print(f\"{blu.name} is {blu.age} years old\")\n",
    "print(f\"{woo.name} is {woo.age} years old\")"
   ]
  },
  {
   "cell_type": "markdown",
   "id": "eb4e92e7",
   "metadata": {},
   "source": [
    "# Example-2"
   ]
  },
  {
   "cell_type": "code",
   "execution_count": null,
   "id": "62618797",
   "metadata": {},
   "outputs": [],
   "source": [
    "complex numbers : real + imagniary"
   ]
  },
  {
   "cell_type": "code",
   "execution_count": 32,
   "id": "d0287336",
   "metadata": {},
   "outputs": [],
   "source": [
    "class ComplexNumber:\n",
    "    \n",
    "    # constructor\n",
    "    def __init__(self,r=0,i=0):\n",
    "        self.real = r\n",
    "        self.imag = i\n",
    "    \n",
    "    # method\n",
    "    def get_data(self):\n",
    "        print(f\"{self.real}+{self.imag}j\")"
   ]
  },
  {
   "cell_type": "code",
   "execution_count": 33,
   "id": "14b7c915",
   "metadata": {},
   "outputs": [],
   "source": [
    "num1 = ComplexNumber(2,3)"
   ]
  },
  {
   "cell_type": "code",
   "execution_count": 34,
   "id": "df567404",
   "metadata": {},
   "outputs": [
    {
     "name": "stdout",
     "output_type": "stream",
     "text": [
      "2+3j\n"
     ]
    }
   ],
   "source": [
    "num1.get_data()"
   ]
  },
  {
   "cell_type": "code",
   "execution_count": 35,
   "id": "1e342aeb",
   "metadata": {},
   "outputs": [],
   "source": [
    "class ComplexNumber:\n",
    "    \n",
    "    # constructor\n",
    "    def __init__(self,r=0,i=0):\n",
    "        self.real = r\n",
    "        self.imag = i\n",
    "    \n",
    "    # method\n",
    "    def get_data(self):\n",
    "        print(f\"{self.real}+{self.imag}j\")\n",
    "        \n",
    "    def add_complex_number(self,number):\n",
    "        self.real = self.real + number\n",
    "        print(f\"{self.real}+{self.imag}j\")"
   ]
  },
  {
   "cell_type": "code",
   "execution_count": 36,
   "id": "c52b7824",
   "metadata": {},
   "outputs": [],
   "source": [
    "num2= ComplexNumber(4,3)"
   ]
  },
  {
   "cell_type": "code",
   "execution_count": 37,
   "id": "5d6dbe34",
   "metadata": {},
   "outputs": [
    {
     "name": "stdout",
     "output_type": "stream",
     "text": [
      "6+3j\n"
     ]
    }
   ],
   "source": [
    "num2.add_complex_number(2)"
   ]
  },
  {
   "cell_type": "code",
   "execution_count": 44,
   "id": "7ab19cf6",
   "metadata": {},
   "outputs": [],
   "source": [
    "num3= ComplexNumber(i=2)"
   ]
  },
  {
   "cell_type": "code",
   "execution_count": 45,
   "id": "8c2804bf",
   "metadata": {},
   "outputs": [
    {
     "data": {
      "text/plain": [
       "2"
      ]
     },
     "execution_count": 45,
     "metadata": {},
     "output_type": "execute_result"
    }
   ],
   "source": [
    "num3.imag"
   ]
  },
  {
   "cell_type": "code",
   "execution_count": 46,
   "id": "2e22fdbf",
   "metadata": {},
   "outputs": [
    {
     "data": {
      "text/plain": [
       "0"
      ]
     },
     "execution_count": 46,
     "metadata": {},
     "output_type": "execute_result"
    }
   ],
   "source": [
    "num3.real"
   ]
  },
  {
   "cell_type": "markdown",
   "id": "0b2f6d21",
   "metadata": {},
   "source": [
    "# Deleting the Attributes & Objects"
   ]
  },
  {
   "cell_type": "code",
   "execution_count": 47,
   "id": "dc8feef6",
   "metadata": {},
   "outputs": [],
   "source": [
    "num1 = ComplexNumber(2,3)"
   ]
  },
  {
   "cell_type": "code",
   "execution_count": 48,
   "id": "11a7aee2",
   "metadata": {},
   "outputs": [
    {
     "data": {
      "text/plain": [
       "(2, 3)"
      ]
     },
     "execution_count": 48,
     "metadata": {},
     "output_type": "execute_result"
    }
   ],
   "source": [
    "num1.real, num1.imag"
   ]
  },
  {
   "cell_type": "code",
   "execution_count": 49,
   "id": "0fd842eb",
   "metadata": {},
   "outputs": [],
   "source": [
    "# delete the atribute\n",
    "del num1.imag"
   ]
  },
  {
   "cell_type": "code",
   "execution_count": 50,
   "id": "1e0c360f",
   "metadata": {},
   "outputs": [
    {
     "ename": "AttributeError",
     "evalue": "'ComplexNumber' object has no attribute 'imag'",
     "output_type": "error",
     "traceback": [
      "\u001b[1;31m---------------------------------------------------------------------------\u001b[0m",
      "\u001b[1;31mAttributeError\u001b[0m                            Traceback (most recent call last)",
      "\u001b[1;32m<ipython-input-50-1bf8b35714de>\u001b[0m in \u001b[0;36m<module>\u001b[1;34m\u001b[0m\n\u001b[1;32m----> 1\u001b[1;33m \u001b[0mnum1\u001b[0m\u001b[1;33m.\u001b[0m\u001b[0mimag\u001b[0m\u001b[1;33m\u001b[0m\u001b[1;33m\u001b[0m\u001b[0m\n\u001b[0m",
      "\u001b[1;31mAttributeError\u001b[0m: 'ComplexNumber' object has no attribute 'imag'"
     ]
    }
   ],
   "source": [
    "num1.imag"
   ]
  },
  {
   "cell_type": "code",
   "execution_count": 51,
   "id": "aeb2efb3",
   "metadata": {},
   "outputs": [
    {
     "ename": "AttributeError",
     "evalue": "'ComplexNumber' object has no attribute 'imag'",
     "output_type": "error",
     "traceback": [
      "\u001b[1;31m---------------------------------------------------------------------------\u001b[0m",
      "\u001b[1;31mAttributeError\u001b[0m                            Traceback (most recent call last)",
      "\u001b[1;32m<ipython-input-51-f79bd2a43995>\u001b[0m in \u001b[0;36m<module>\u001b[1;34m\u001b[0m\n\u001b[1;32m----> 1\u001b[1;33m \u001b[0mnum1\u001b[0m\u001b[1;33m.\u001b[0m\u001b[0mget_data\u001b[0m\u001b[1;33m(\u001b[0m\u001b[1;33m)\u001b[0m\u001b[1;33m\u001b[0m\u001b[1;33m\u001b[0m\u001b[0m\n\u001b[0m",
      "\u001b[1;32m<ipython-input-35-a2eee09b7de2>\u001b[0m in \u001b[0;36mget_data\u001b[1;34m(self)\u001b[0m\n\u001b[0;32m      8\u001b[0m     \u001b[1;31m# method\u001b[0m\u001b[1;33m\u001b[0m\u001b[1;33m\u001b[0m\u001b[1;33m\u001b[0m\u001b[0m\n\u001b[0;32m      9\u001b[0m     \u001b[1;32mdef\u001b[0m \u001b[0mget_data\u001b[0m\u001b[1;33m(\u001b[0m\u001b[0mself\u001b[0m\u001b[1;33m)\u001b[0m\u001b[1;33m:\u001b[0m\u001b[1;33m\u001b[0m\u001b[1;33m\u001b[0m\u001b[0m\n\u001b[1;32m---> 10\u001b[1;33m         \u001b[0mprint\u001b[0m\u001b[1;33m(\u001b[0m\u001b[1;34mf\"{self.real}+{self.imag}j\"\u001b[0m\u001b[1;33m)\u001b[0m\u001b[1;33m\u001b[0m\u001b[1;33m\u001b[0m\u001b[0m\n\u001b[0m\u001b[0;32m     11\u001b[0m \u001b[1;33m\u001b[0m\u001b[0m\n\u001b[0;32m     12\u001b[0m     \u001b[1;32mdef\u001b[0m \u001b[0madd_complex_number\u001b[0m\u001b[1;33m(\u001b[0m\u001b[0mself\u001b[0m\u001b[1;33m,\u001b[0m\u001b[0mnumber\u001b[0m\u001b[1;33m)\u001b[0m\u001b[1;33m:\u001b[0m\u001b[1;33m\u001b[0m\u001b[1;33m\u001b[0m\u001b[0m\n",
      "\u001b[1;31mAttributeError\u001b[0m: 'ComplexNumber' object has no attribute 'imag'"
     ]
    }
   ],
   "source": [
    "num1.get_data()"
   ]
  },
  {
   "cell_type": "code",
   "execution_count": 52,
   "id": "248ca4fc",
   "metadata": {},
   "outputs": [],
   "source": [
    "# delete the method\n",
    "del ComplexNumber.get_data"
   ]
  },
  {
   "cell_type": "code",
   "execution_count": 53,
   "id": "afc67ff1",
   "metadata": {},
   "outputs": [
    {
     "ename": "AttributeError",
     "evalue": "'ComplexNumber' object has no attribute 'get_data'",
     "output_type": "error",
     "traceback": [
      "\u001b[1;31m---------------------------------------------------------------------------\u001b[0m",
      "\u001b[1;31mAttributeError\u001b[0m                            Traceback (most recent call last)",
      "\u001b[1;32m<ipython-input-53-f79bd2a43995>\u001b[0m in \u001b[0;36m<module>\u001b[1;34m\u001b[0m\n\u001b[1;32m----> 1\u001b[1;33m \u001b[0mnum1\u001b[0m\u001b[1;33m.\u001b[0m\u001b[0mget_data\u001b[0m\u001b[1;33m(\u001b[0m\u001b[1;33m)\u001b[0m\u001b[1;33m\u001b[0m\u001b[1;33m\u001b[0m\u001b[0m\n\u001b[0m",
      "\u001b[1;31mAttributeError\u001b[0m: 'ComplexNumber' object has no attribute 'get_data'"
     ]
    }
   ],
   "source": [
    "num1.get_data()"
   ]
  },
  {
   "cell_type": "code",
   "execution_count": 54,
   "id": "643674d9",
   "metadata": {},
   "outputs": [],
   "source": [
    "del num1 # delete the object"
   ]
  },
  {
   "cell_type": "code",
   "execution_count": 55,
   "id": "8916a6fe",
   "metadata": {},
   "outputs": [
    {
     "ename": "NameError",
     "evalue": "name 'num1' is not defined",
     "output_type": "error",
     "traceback": [
      "\u001b[1;31m---------------------------------------------------------------------------\u001b[0m",
      "\u001b[1;31mNameError\u001b[0m                                 Traceback (most recent call last)",
      "\u001b[1;32m<ipython-input-55-d05396c398c6>\u001b[0m in \u001b[0;36m<module>\u001b[1;34m\u001b[0m\n\u001b[1;32m----> 1\u001b[1;33m \u001b[0mnum1\u001b[0m\u001b[1;33m\u001b[0m\u001b[1;33m\u001b[0m\u001b[0m\n\u001b[0m",
      "\u001b[1;31mNameError\u001b[0m: name 'num1' is not defined"
     ]
    }
   ],
   "source": [
    "num1"
   ]
  },
  {
   "cell_type": "markdown",
   "id": "9e5cbd32",
   "metadata": {},
   "source": [
    "# Example : Extend the Parrot Class"
   ]
  },
  {
   "cell_type": "code",
   "execution_count": 65,
   "id": "993e0912",
   "metadata": {},
   "outputs": [],
   "source": [
    "class Parrot:\n",
    "    \"This is a parrot class\"\n",
    "    \n",
    "    # class attribute\n",
    "    species = \"bird\"\n",
    "    \n",
    "    #instance attribute - constructor\n",
    "    def __init__(self,name,age):\n",
    "        self.name = name\n",
    "        self.age = age\n",
    "    \n",
    "    #instance method\n",
    "    def sing(self,song):\n",
    "        return f\"{self.name} sings {song}\"\n",
    "    \n",
    "    def dance(self):\n",
    "        return f\"{self.name} is dancing\""
   ]
  },
  {
   "cell_type": "code",
   "execution_count": 66,
   "id": "fd098681",
   "metadata": {},
   "outputs": [],
   "source": [
    "# Instantiate the Parrot clas\n",
    "blu = Parrot(\"Blu\", 10)"
   ]
  },
  {
   "cell_type": "code",
   "execution_count": 67,
   "id": "e4258264",
   "metadata": {},
   "outputs": [
    {
     "data": {
      "text/plain": [
       "'Blu sings Happy'"
      ]
     },
     "execution_count": 67,
     "metadata": {},
     "output_type": "execute_result"
    }
   ],
   "source": [
    "# call our methods\n",
    "blu.sing(\"Happy\")"
   ]
  },
  {
   "cell_type": "code",
   "execution_count": 68,
   "id": "99fb8ab1",
   "metadata": {},
   "outputs": [
    {
     "data": {
      "text/plain": [
       "'Blu is dancing'"
      ]
     },
     "execution_count": 68,
     "metadata": {},
     "output_type": "execute_result"
    }
   ],
   "source": [
    "blu.dance()"
   ]
  },
  {
   "cell_type": "markdown",
   "id": "9ebdd69c",
   "metadata": {},
   "source": [
    "# Inheritence"
   ]
  },
  {
   "cell_type": "markdown",
   "id": "163ae741",
   "metadata": {},
   "source": [
    "- It is a way of creating a new class for using details of an existing class without modifying it.\n",
    "- Base class(Parent class), child class(derived class)"
   ]
  },
  {
   "cell_type": "code",
   "execution_count": null,
   "id": "acb4b6b1",
   "metadata": {},
   "outputs": [],
   "source": [
    "Sytnax:\n",
    "    class Baseclass:\n",
    "        body of base class\n",
    "    \n",
    "    class Derivedclass(Baseclass):\n",
    "        body of derived class"
   ]
  },
  {
   "cell_type": "markdown",
   "id": "b1b368eb",
   "metadata": {},
   "source": [
    "# Use Inheritence Concept in the Parrot class"
   ]
  },
  {
   "cell_type": "code",
   "execution_count": 69,
   "id": "27048feb",
   "metadata": {},
   "outputs": [],
   "source": [
    "# parent class\n",
    "class Bird :\n",
    "    \n",
    "    #constructor/ instance attributes\n",
    "    def __init__(self):\n",
    "        print(\"Bird is ready\")\n",
    "    \n",
    "    def whoisThis(self):\n",
    "        print(\"Bird\")\n",
    "        \n",
    "    def swim(self):\n",
    "        print(\"swim faster\")        "
   ]
  },
  {
   "cell_type": "code",
   "execution_count": 80,
   "id": "3af696f4",
   "metadata": {},
   "outputs": [],
   "source": [
    "# child class\n",
    "class Penguin(Bird):\n",
    "    \n",
    "    def __init__(self):\n",
    "        super().__init__()  # calling the constructor of parent class\n",
    "        print(\"Penguin is ready\")\n",
    "        \n",
    "    def whoisThis(self):\n",
    "        print(\"Penguin\")\n",
    "        \n",
    "    def run(self):\n",
    "        print(\"Run Faster\")"
   ]
  },
  {
   "cell_type": "code",
   "execution_count": 81,
   "id": "36f599ca",
   "metadata": {},
   "outputs": [
    {
     "name": "stdout",
     "output_type": "stream",
     "text": [
      "Bird is ready\n",
      "Penguin is ready\n"
     ]
    }
   ],
   "source": [
    "# Since child class is inheriting the Base class so we would create the object of child class\n",
    "p1 = Penguin()"
   ]
  },
  {
   "cell_type": "code",
   "execution_count": 82,
   "id": "a76df361",
   "metadata": {},
   "outputs": [
    {
     "name": "stdout",
     "output_type": "stream",
     "text": [
      "Penguin\n"
     ]
    }
   ],
   "source": [
    "p1.whoisThis() # function of Base class is overridden and we are able to acces child class function"
   ]
  },
  {
   "cell_type": "code",
   "execution_count": 83,
   "id": "e693639d",
   "metadata": {},
   "outputs": [
    {
     "name": "stdout",
     "output_type": "stream",
     "text": [
      "swim faster\n"
     ]
    }
   ],
   "source": [
    "p1.swim() #ivoking method of base class"
   ]
  },
  {
   "cell_type": "code",
   "execution_count": 84,
   "id": "99ce61db",
   "metadata": {},
   "outputs": [
    {
     "name": "stdout",
     "output_type": "stream",
     "text": [
      "Run Faster\n"
     ]
    }
   ],
   "source": [
    "p1.run() #invoking method of child class"
   ]
  },
  {
   "cell_type": "markdown",
   "id": "66ae1386",
   "metadata": {},
   "source": [
    "## Example-2 : Inheritence : Calculating the Area of Triangle and polygon"
   ]
  },
  {
   "cell_type": "code",
   "execution_count": 90,
   "id": "d8b4d890",
   "metadata": {},
   "outputs": [],
   "source": [
    "# Parent class\n",
    "class Polygon :\n",
    "    def __init__(self, no_of_sides):\n",
    "        self.n = no_of_sides\n",
    "        self.sides = [0 for i in range(no_of_sides)] # initializing all the sides with zero\n",
    "        \n",
    "    def input_sides(self):\n",
    "        self.sides = [float(input(\"Enter the sides \"+str(i+1)+\" : \")) for i in range(self.n)]\n",
    "        \n",
    "    def dispSides(self):\n",
    "        for i in range(self.n):\n",
    "            print(\"Side \",i+1, \" is \", self.sides[i])"
   ]
  },
  {
   "cell_type": "code",
   "execution_count": 91,
   "id": "3fc8999e",
   "metadata": {},
   "outputs": [],
   "source": [
    "# child class\n",
    "class Triangle(Polygon):\n",
    "    \n",
    "    def __init__(self):\n",
    "        super().__init__(3)\n",
    "    \n",
    "    def findArea(self):\n",
    "        a,b,c = self.sides\n",
    "        \n",
    "        # calculate the semi-perimeter\n",
    "        s = (a+b+c)/2\n",
    "        area = (s*(s-a)*(s-b)*(s-c))**0.5\n",
    "        print(\"The area of triangle is {}\".format(area))"
   ]
  },
  {
   "cell_type": "code",
   "execution_count": 92,
   "id": "66a9a0a0",
   "metadata": {},
   "outputs": [],
   "source": [
    "t = Triangle() # creating the object of the child class"
   ]
  },
  {
   "cell_type": "code",
   "execution_count": 95,
   "id": "85f53644",
   "metadata": {},
   "outputs": [
    {
     "name": "stdout",
     "output_type": "stream",
     "text": [
      "Enter the sides 1 : 3\n",
      "Enter the sides 2 : 4\n",
      "Enter the sides 3 : 5\n"
     ]
    }
   ],
   "source": [
    "# input the sides\n",
    "t.input_sides()"
   ]
  },
  {
   "cell_type": "code",
   "execution_count": 96,
   "id": "dc4fe6ff",
   "metadata": {},
   "outputs": [
    {
     "data": {
      "text/plain": [
       "[3.0, 4.0, 5.0]"
      ]
     },
     "execution_count": 96,
     "metadata": {},
     "output_type": "execute_result"
    }
   ],
   "source": [
    "t.sides"
   ]
  },
  {
   "cell_type": "code",
   "execution_count": 97,
   "id": "3eca3cc4",
   "metadata": {},
   "outputs": [
    {
     "name": "stdout",
     "output_type": "stream",
     "text": [
      "Side  1  is  3.0\n",
      "Side  2  is  4.0\n",
      "Side  3  is  5.0\n"
     ]
    }
   ],
   "source": [
    "t.dispSides()"
   ]
  },
  {
   "cell_type": "code",
   "execution_count": 98,
   "id": "63192223",
   "metadata": {},
   "outputs": [
    {
     "name": "stdout",
     "output_type": "stream",
     "text": [
      "The area of triangle is 6.0\n"
     ]
    }
   ],
   "source": [
    "t.findArea()"
   ]
  },
  {
   "cell_type": "code",
   "execution_count": null,
   "id": "98e964b7",
   "metadata": {},
   "outputs": [],
   "source": []
  }
 ],
 "metadata": {
  "kernelspec": {
   "display_name": "Python 3",
   "language": "python",
   "name": "python3"
  },
  "language_info": {
   "codemirror_mode": {
    "name": "ipython",
    "version": 3
   },
   "file_extension": ".py",
   "mimetype": "text/x-python",
   "name": "python",
   "nbconvert_exporter": "python",
   "pygments_lexer": "ipython3",
   "version": "3.8.8"
  }
 },
 "nbformat": 4,
 "nbformat_minor": 5
}
